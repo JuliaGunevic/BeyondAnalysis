{
 "cells": [
  {
   "cell_type": "code",
   "execution_count": null,
   "metadata": {},
   "outputs": [],
   "source": [
    "################################################Task 1############################################################"
   ]
  },
  {
   "cell_type": "code",
   "execution_count": null,
   "metadata": {},
   "outputs": [],
   "source": [
    "#import of parquet file\n",
    "import pandas as pd   \n",
    "parquet_file = '/Users/juliagunevic/Documents/PRACA/yellow_tripdata_2022-01.parquet' \n",
    "df=pd.read_parquet(parquet_file, engine='pyarrow')\n",
    "df"
   ]
  },
  {
   "cell_type": "code",
   "execution_count": null,
   "metadata": {},
   "outputs": [],
   "source": [
    "#setting tpep droppoff datetime as index\n",
    "df = df.set_index(df['tpep_dropoff_datetime'])\n",
    "df = df.sort_index()"
   ]
  },
  {
   "cell_type": "code",
   "execution_count": null,
   "metadata": {},
   "outputs": [],
   "source": [
    "#splitting parquet file into csv files\n",
    "from datetime import timedelta, date\n",
    "\n",
    "def daterange(start_date, end_date):\n",
    "    for n in range(int ((end_date - start_date).days)):\n",
    "        yield start_date + timedelta(n)\n",
    "\n",
    "start_date = date(2022, 1, 1)\n",
    "end_date = date(2022, 1, 31)\n",
    "for single_date in daterange(start_date, end_date):\n",
    "    single_date_edit=single_date.strftime(\"%m-%d-%Y\")\n",
    "    df_date = df[single_date_edit]\n",
    "    df_date.to_csv(r'/Users/juliagunevic/Documents/PRACA/'+single_date_edit+'.csv', index = False)"
   ]
  },
  {
   "cell_type": "code",
   "execution_count": null,
   "metadata": {},
   "outputs": [],
   "source": [
    "################################################Task 2############################################################"
   ]
  },
  {
   "cell_type": "code",
   "execution_count": null,
   "metadata": {},
   "outputs": [],
   "source": [
    "#importing needed libraries\n",
    "import os\n",
    "import numpy as np\n",
    "import psycopg2"
   ]
  },
  {
   "cell_type": "code",
   "execution_count": null,
   "metadata": {},
   "outputs": [],
   "source": [
    "#importing one csv file as example\n",
    "df2=pd.read_csv(\"01-01-2022.csv\")\n",
    "df2.head()"
   ]
  },
  {
   "cell_type": "code",
   "execution_count": null,
   "metadata": {},
   "outputs": [],
   "source": [
    "#clean table names\n",
    "file=\"01-01-2022\"\n",
    "clean_tbl_name=file.lower().replace(\"-\",\"_\") \n",
    "clean_tbl_name"
   ]
  },
  {
   "cell_type": "code",
   "execution_count": null,
   "metadata": {},
   "outputs": [],
   "source": [
    "#clean column names\n",
    "df2.columns=[x.lower() for x in df2.columns]\n",
    "df2.columns"
   ]
  },
  {
   "cell_type": "code",
   "execution_count": null,
   "metadata": {},
   "outputs": [],
   "source": [
    " #Creation of example table\n",
    "create table yellow_taxi_01_01_2022\n",
    "    (vendorid int,\n",
    "     tpep_pickup_datetime varchar,\n",
    "     tpep_dropoff_datetime varchar,\n",
    "     passenger_count float,\n",
    "     trip_distance float,\n",
    "     ratecodeid int,\n",
    "     store_and_fwd_flag varchar,\n",
    "      pulocationid int,\n",
    "     dolocationid int,\n",
    "     payment_type int,\n",
    "     fare_amount float,\n",
    "     extra float,\n",
    "    mta_tax float,\n",
    "     tip_amount float,\n",
    "     tolls_amount float,\n",
    "     improvement_surcharge float,\n",
    "     total_amount float,\n",
    "     congestion_surcharge float,\n",
    "     airport_fee float,\n",
    "    ); "
   ]
  },
  {
   "cell_type": "code",
   "execution_count": null,
   "metadata": {},
   "outputs": [],
   "source": [
    "replacements={\n",
    "    'object':'varchar',\n",
    "    'float64':'float',\n",
    "    'int64': 'int',\n",
    "    'datetime64':'timestamp',\n",
    "    'timedelta64[ns]':'varchar'\n",
    "}\n",
    "replacements"
   ]
  },
  {
   "cell_type": "code",
   "execution_count": null,
   "metadata": {},
   "outputs": [],
   "source": [
    "col_str=\", \".join(\"{} {}\".format(n,d) for (n,d) in zip(df2.columns, df2.dtypes.replace (replacements)))\n",
    "col_str"
   ]
  },
  {
   "cell_type": "code",
   "execution_count": null,
   "metadata": {},
   "outputs": [],
   "source": [
    "#NOT WORKING!!!\n",
    "#security group changed to all trafic\n",
    "#region as well changed, still not working\n",
    "\n",
    "#open database connection\n",
    "conn_string =\"host='database-1.chkvqbpuyll8.eu-central-1.rds.amazonaws.com' dbname='database-1' user='juliagunevic' password='password.'\"\n",
    "conn=psycopg2.connect(conn_string)\n",
    "cursor=conn.cursor()\n",
    "print('opened database successfully')"
   ]
  },
  {
   "cell_type": "code",
   "execution_count": null,
   "metadata": {},
   "outputs": [],
   "source": [
    "#drop table with the same name\n",
    "cursor.execute(\"drop table if exists yellow_taxi_01_01_2022\")\n"
   ]
  },
  {
   "cell_type": "code",
   "execution_count": null,
   "metadata": {},
   "outputs": [],
   "source": [
    "#creation of tables in db\n",
    "def daterange(start_date, end_date):\n",
    "    for n in range(int ((end_date - start_date).days)):\n",
    "        yield start_date + timedelta(n)\n",
    "\n",
    "start_date = date(2022, 1, 1)\n",
    "end_date = date(2022, 1, 31)\n",
    "for single_date in daterange(start_date, end_date):\n",
    "    cursor.execute(\"create table yellow_taxi\"+single_date+\"\\\n",
    "(vendorid int, tpep_pickup_datetime varchar, tpep_dropoff_datetime varchar, passenger_count float,trip_distance float, ratecodeid float, store_and_fwd_flag varchar, pulocationid int, dolocationid int, payment_type int, fare_amount float, extra float, mta_tax float, tip_amount float, tolls_amount float, improvement_surcharge float, total_amount float, congestion_surcharge float, airport_fee float)\")\n",
    "    #insert values to table\n",
    "    my_file=open(single_date+'.csv')\n",
    "    #upload to db\n",
    "    SQL_STATEMENT=\"\"\"\n",
    "\n",
    "    COPY\"\"\"+single_date+\"\"\" FROM STDIN WITH\n",
    "    CSV\n",
    "    HEADER\n",
    "    DELIMITER AS \",\"\n",
    "\n",
    "    \"\"\"\n",
    "    cursor.copy_expert(sql=SQL_STATEMENT, file=my_file)\n",
    "print(\"file copied to db\")"
   ]
  },
  {
   "cell_type": "code",
   "execution_count": null,
   "metadata": {},
   "outputs": [],
   "source": [
    "################################################Task 3############################################################"
   ]
  },
  {
   "cell_type": "code",
   "execution_count": null,
   "metadata": {},
   "outputs": [],
   "source": [
    "print (df.describe())"
   ]
  },
  {
   "cell_type": "code",
   "execution_count": null,
   "metadata": {},
   "outputs": [],
   "source": [
    " #testing completness of data\n",
    "percent_missing = df.isnull().sum() * 100 / len(df)\n",
    "percent_missing"
   ]
  },
  {
   "cell_type": "code",
   "execution_count": null,
   "metadata": {},
   "outputs": [],
   "source": [
    "#deleting rows with missing data\n",
    "df=df.dropna()"
   ]
  },
  {
   "cell_type": "code",
   "execution_count": null,
   "metadata": {},
   "outputs": [],
   "source": [
    "#testing conformity\n",
    "df.dtypes"
   ]
  },
  {
   "cell_type": "code",
   "execution_count": null,
   "metadata": {},
   "outputs": [],
   "source": [
    "#testing uniqueness \n",
    "df.nunique()"
   ]
  },
  {
   "cell_type": "code",
   "execution_count": null,
   "metadata": {},
   "outputs": [],
   "source": [
    "################################################Task 4############################################################"
   ]
  },
  {
   "cell_type": "code",
   "execution_count": null,
   "metadata": {},
   "outputs": [],
   "source": [
    "# I did not understand how to create star schema with just one table. I could do one, if there would be few tables\n",
    "# and to draw relationship between them\n",
    "#to my best knowledge I did example of star schema which you can find on github"
   ]
  },
  {
   "cell_type": "code",
   "execution_count": null,
   "metadata": {},
   "outputs": [],
   "source": [
    "################################################Task 5############################################################"
   ]
  },
  {
   "cell_type": "code",
   "execution_count": null,
   "metadata": {},
   "outputs": [],
   "source": [
    "# I believe I could do better the upload of data to databse. It is a pity that it doesn't work.\n",
    "#what is more, there is room to grow in the section of data quality.I feel I could not do it to my best knowledge\n",
    "#as I lacked information about what for example values should be put in specific columns. Because of that I could\n",
    "#not do the validation part of data quality."
   ]
  }
 ],
 "metadata": {
  "kernelspec": {
   "display_name": "Python 3",
   "language": "python",
   "name": "python3"
  },
  "language_info": {
   "codemirror_mode": {
    "name": "ipython",
    "version": 3
   },
   "file_extension": ".py",
   "mimetype": "text/x-python",
   "name": "python",
   "nbconvert_exporter": "python",
   "pygments_lexer": "ipython3",
   "version": "3.8.5"
  }
 },
 "nbformat": 4,
 "nbformat_minor": 4
}
